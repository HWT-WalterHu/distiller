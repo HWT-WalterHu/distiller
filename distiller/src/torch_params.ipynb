{
 "cells": [
  {
   "cell_type": "code",
   "execution_count": 1,
   "metadata": {},
   "outputs": [],
   "source": [
    "import torch"
   ]
  },
  {
   "cell_type": "code",
   "execution_count": 2,
   "metadata": {},
   "outputs": [],
   "source": [
    "saved_model_path = '/home/hwt/Project/pytorch_models/FaceRecognition/snapshot/CombineMargin/CombineMargin-' \\\n",
    "                   'm0.9m0.2m0.15s64_fc_0.35_112x96_del-LAN-DHUA-Crop-Kd1-2-TYLG-NL-GE8_FaceNetOrg20-d512/2019' \\\n",
    "                   '-02-20-09-03_CombineMargin-m0.9m0.2m0.15s64_fc_0.35_112x96_del-LAN-DHUA-Crop-Kd1-2-TYLG-NL-GE8' \\\n",
    "                   '_FaceNetOrg20-d512_model_iter-22500_Bus-0.1764_XCH-0.3343.pth'\n",
    "\n",
    "saved_head_path = saved_model_path.replace('_model_', '_head_')\n",
    "saved_opt_path = saved_model_path.replace('_model_', '_opt_')"
   ]
  },
  {
   "cell_type": "code",
   "execution_count": 3,
   "metadata": {},
   "outputs": [
    {
     "name": "stdout",
     "output_type": "stream",
     "text": [
      "odict_keys(['conv1.conv.weight', 'conv1.bn.weight', 'conv1.bn.bias', 'conv1.bn.running_mean', 'conv1.bn.running_var', 'conv1.bn.num_batches_tracked', 'conv1.prelu.weight', 'conv1_res.model.0.conv1.conv.weight', 'conv1_res.model.0.conv1.prelu.weight', 'conv1_res.model.0.conv2.conv.weight', 'conv1_res.model.0.conv2.prelu.weight', 'conv2.conv.weight', 'conv2.bn.weight', 'conv2.bn.bias', 'conv2.bn.running_mean', 'conv2.bn.running_var', 'conv2.bn.num_batches_tracked', 'conv2.prelu.weight', 'conv2_res.model.0.conv1.conv.weight', 'conv2_res.model.0.conv1.prelu.weight', 'conv2_res.model.0.conv2.conv.weight', 'conv2_res.model.0.conv2.prelu.weight', 'conv2_res.model.1.conv1.conv.weight', 'conv2_res.model.1.conv1.prelu.weight', 'conv2_res.model.1.conv2.conv.weight', 'conv2_res.model.1.conv2.prelu.weight', 'conv3.conv.weight', 'conv3.bn.weight', 'conv3.bn.bias', 'conv3.bn.running_mean', 'conv3.bn.running_var', 'conv3.bn.num_batches_tracked', 'conv3.prelu.weight', 'conv3_res.model.0.conv1.conv.weight', 'conv3_res.model.0.conv1.prelu.weight', 'conv3_res.model.0.conv2.conv.weight', 'conv3_res.model.0.conv2.prelu.weight', 'conv3_res.model.1.conv1.conv.weight', 'conv3_res.model.1.conv1.prelu.weight', 'conv3_res.model.1.conv2.conv.weight', 'conv3_res.model.1.conv2.prelu.weight', 'conv3_res.model.2.conv1.conv.weight', 'conv3_res.model.2.conv1.prelu.weight', 'conv3_res.model.2.conv2.conv.weight', 'conv3_res.model.2.conv2.prelu.weight', 'conv3_res.model.3.conv1.conv.weight', 'conv3_res.model.3.conv1.prelu.weight', 'conv3_res.model.3.conv2.conv.weight', 'conv3_res.model.3.conv2.prelu.weight', 'conv4.conv.weight', 'conv4.bn.weight', 'conv4.bn.bias', 'conv4.bn.running_mean', 'conv4.bn.running_var', 'conv4.bn.num_batches_tracked', 'conv4.prelu.weight', 'conv4_res.model.0.conv1.conv.weight', 'conv4_res.model.0.conv1.prelu.weight', 'conv4_res.model.0.conv2.conv.weight', 'conv4_res.model.0.conv2.prelu.weight', 'linear.weight', 'linear.bias', 'bn.weight', 'bn.bias', 'bn.running_mean', 'bn.running_var', 'bn.num_batches_tracked'])\n"
     ]
    }
   ],
   "source": [
    "state_dict = torch.load(saved_model_path)\n",
    "from collections import OrderedDict\n",
    "\n",
    "new_state_dict = OrderedDict()\n",
    "for key, value in state_dict.items():\n",
    "    name_key = key.split('module.')[-1]\n",
    "    new_state_dict[name_key] = value\n",
    "print(new_state_dict.keys())"
   ]
  },
  {
   "cell_type": "code",
   "execution_count": 4,
   "metadata": {},
   "outputs": [
    {
     "data": {
      "text/plain": [
       "67"
      ]
     },
     "execution_count": 4,
     "metadata": {},
     "output_type": "execute_result"
    }
   ],
   "source": [
    "len(new_state_dict)"
   ]
  },
  {
   "cell_type": "code",
   "execution_count": 5,
   "metadata": {},
   "outputs": [
    {
     "name": "stdout",
     "output_type": "stream",
     "text": [
      "odict_keys(['state', 'param_groups'])\n",
      "2\n"
     ]
    }
   ],
   "source": [
    "state_dict = torch.load(saved_opt_path)\n",
    "from collections import OrderedDict\n",
    "\n",
    "new_state_dict = OrderedDict()\n",
    "for key, value in state_dict.items():\n",
    "    name_key = key.split('module.')[-1]\n",
    "    new_state_dict[name_key] = value\n",
    "print(new_state_dict.keys())\n",
    "print(len(new_state_dict))"
   ]
  },
  {
   "cell_type": "code",
   "execution_count": 10,
   "metadata": {},
   "outputs": [
    {
     "data": {
      "text/plain": [
       "dict_keys([140370285859320, 140370285861264, 140370285861912, 140370285862056, 140370285862272, 140370285862416, 140370285862560, 140370145820888, 140370145821464, 140370145821608, 140370145821824, 140370145821968, 140370145822256, 140370145822400, 140370145822616, 140370145822760, 140370145822904, 140370145823408, 140370145823984, 140370145824128, 140370145824344, 140370145824488, 140370145902664, 140370145902808, 140370145903024, 140370145903168, 140370145903456, 140370145903600, 140370145903816, 140370145903960, 140370145904248, 140370145904392, 140370145904608, 140370145904752, 140370145904896, 140370145905400, 140370145905976, 140370145906120, 140370145906336, 140370145906480, 140370145906552, 140370145906624, 140370145706992, 140370285859248, 140370285860976, 140370285862632, 140370285862704, 140370145822976, 140370145823048, 140370145904968, 140370145905040, 140370146000968, 140370146001040])"
      ]
     },
     "execution_count": 10,
     "metadata": {},
     "output_type": "execute_result"
    }
   ],
   "source": [
    "new_state_dict['state'].keys()"
   ]
  },
  {
   "cell_type": "code",
   "execution_count": 11,
   "metadata": {},
   "outputs": [
    {
     "ename": "AttributeError",
     "evalue": "'list' object has no attribute 'keys'",
     "output_type": "error",
     "traceback": [
      "\u001b[0;31m---------------------------------------------------------------------------\u001b[0m",
      "\u001b[0;31mAttributeError\u001b[0m                            Traceback (most recent call last)",
      "\u001b[0;32m<ipython-input-11-e8291e2d7e4a>\u001b[0m in \u001b[0;36m<module>\u001b[0;34m()\u001b[0m\n\u001b[0;32m----> 1\u001b[0;31m \u001b[0mnew_state_dict\u001b[0m\u001b[0;34m[\u001b[0m\u001b[0;34m'param_groups'\u001b[0m\u001b[0;34m]\u001b[0m\u001b[0;34m.\u001b[0m\u001b[0mkeys\u001b[0m\u001b[0;34m(\u001b[0m\u001b[0;34m)\u001b[0m\u001b[0;34m\u001b[0m\u001b[0m\n\u001b[0m",
      "\u001b[0;31mAttributeError\u001b[0m: 'list' object has no attribute 'keys'"
     ]
    }
   ],
   "source": [
    "new_state_dict['param_groups'].keys()"
   ]
  },
  {
   "cell_type": "code",
   "execution_count": null,
   "metadata": {},
   "outputs": [],
   "source": [
    "state_dict = torch.load(saved_opt_path)\n",
    "from collections import OrderedDict\n",
    "\n",
    "new_state_dict = OrderedDict()\n",
    "for key, value in state_dict.items():\n",
    "    name_key = key.split('module.')[-1]\n",
    "    new_state_dict[name_key] = value\n",
    "print(new_state_dict.keys())\n",
    "print(len(new_state_dict))"
   ]
  }
 ],
 "metadata": {
  "kernelspec": {
   "display_name": "Python 3",
   "language": "python",
   "name": "python3"
  },
  "language_info": {
   "codemirror_mode": {
    "name": "ipython",
    "version": 3
   },
   "file_extension": ".py",
   "mimetype": "text/x-python",
   "name": "python",
   "nbconvert_exporter": "python",
   "pygments_lexer": "ipython3",
   "version": "3.6.4"
  }
 },
 "nbformat": 4,
 "nbformat_minor": 2
}
